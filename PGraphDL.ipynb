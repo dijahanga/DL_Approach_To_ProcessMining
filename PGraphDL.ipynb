{
  "nbformat": 4,
  "nbformat_minor": 0,
  "metadata": {
    "colab": {
      "name": "PGraphDL.ipynb",
      "provenance": [],
      "collapsed_sections": [],
      "include_colab_link": true
    },
    "kernelspec": {
      "name": "python3",
      "display_name": "Python 3"
    },
    "language_info": {
      "name": "python"
    }
  },
  "cells": [
    {
      "cell_type": "markdown",
      "metadata": {
        "id": "view-in-github",
        "colab_type": "text"
      },
      "source": [
        "<a href=\"https://colab.research.google.com/github/dijahanga/DL_Approach_To_Process_Mining/blob/main/PGraphDL.ipynb\" target=\"_parent\"><img src=\"https://colab.research.google.com/assets/colab-badge.svg\" alt=\"Open In Colab\"/></a>"
      ]
    },
    {
      "cell_type": "code",
      "metadata": {
        "id": "cdl4EL6gesVQ"
      },
      "source": [
        "import pandas as pd\n",
        "import math\n",
        "import numpy as np\n",
        "import pydotplus as pydot\n",
        "from graphviz import Digraph\n",
        "import copy\n",
        "import csv\n",
        "from google.colab import files"
      ],
      "execution_count": null,
      "outputs": []
    },
    {
      "cell_type": "code",
      "metadata": {
        "id": "j5nluEnFkgsC"
      },
      "source": [
        "class helper:\n",
        "  def __init__(self):\n",
        "    self.i= 0\n",
        "  def datasetListMergeMinus(self, dataset, subset):\n",
        "    wholeData = 1\n",
        "    for m in dataset:\n",
        "      if not m.equals(subset):\n",
        "        if type(wholeData) is int:\n",
        "          wholeData = m\n",
        "        else:\n",
        "          wholeData = wholeData.append(m)\n",
        "    return wholeData\n",
        "  def multiDimStrToUpper(self, string):\n",
        "    nstring = []\n",
        "    for strns in string:\n",
        "      nstring.append([x.upper() for x in strns])\n",
        "    return nstring\n",
        "  def multiDimStrToLower(self, string):\n",
        "    nstring = []\n",
        "    for strns in string:\n",
        "      nstring.append([x.lower() for x in strns])\n",
        "    return nstring\n",
        "  def oneDimStrToLower(self, string):\n",
        "    nstring = []\n",
        "    for i in range(0, len(string)):\n",
        "      nstring.append(string[i].lower())\n",
        "    return nstring\n",
        "  def grabEventsFromHeader(self, header):\n",
        "    evs = []\n",
        "    c = 0\n",
        "    for ev in header:\n",
        "      if c > 0:\n",
        "        try:\n",
        "          num = int(ev)\n",
        "        except:\n",
        "          evs.append(ev)\n",
        "      c = c + 1\n",
        "    return evs\n",
        "\n",
        "  def rowIsFirst(self, row, activities, headers):\n",
        "    foundValues = [];\n",
        "    for i in range(0,len(headers)):\n",
        "      val = headers[i]\n",
        "      if row[val] in activities:\n",
        "        foundValues.append(row[val])\n",
        "    if (len(foundValues) == 0):\n",
        "      return True\n",
        "    return False\n",
        "\n",
        "  def rowIsLast(self, row, evName):\n",
        "    rowEv = row.idxmax()\n",
        "    try:\n",
        "      if rowEv.lower() == evName.lower():\n",
        "        return True\n",
        "    except:\n",
        "      return False\n",
        "    return False\n",
        "\n",
        "  def divideMatrix(self, matrix):\n",
        "    headers = list(matrix.columns.values)\n",
        "    leftHeaders = []\n",
        "    rightHeaders = []\n",
        "    for i in range(0,len(headers)):\n",
        "      ev = headers[i]\n",
        "      try:\n",
        "          num = int(ev)        \n",
        "          leftHeaders.append(ev)        \n",
        "      except:\n",
        "          rightHeaders.append(ev)\n",
        "    leftData = matrix[leftHeaders]\n",
        "    rightData = matrix[rightHeaders]\n",
        "    return [leftData, rightData]"
      ],
      "execution_count": null,
      "outputs": []
    },
    {
      "cell_type": "code",
      "metadata": {
        "id": "vrKe6WTjk_Ir"
      },
      "source": [
        "class resultGraphing:\n",
        "  def __init__(self):\n",
        "    self.i= 0\n",
        "    \n",
        "  def decomposeResult(self, results):\n",
        "    helper_ = helper()\n",
        "    headers = list(results.columns.values)\n",
        "    events = helper_.grabEventsFromHeader(headers)\n",
        "    matrices = []\n",
        "    matricesLeft = []\n",
        "    lastIndex = 0\n",
        "    totalBegin = 0\n",
        "    ind = 0\n",
        "    newMatrix = helper_.divideMatrix(results)\n",
        "    for index, row in newMatrix[1].iterrows():\n",
        "      ind = index\n",
        "      rowIsLast = helper_.rowIsLast(row, \"end\")\n",
        "      if rowIsLast:\n",
        "        sequenceList = newMatrix[1].iloc[lastIndex:index+1, :]\n",
        "        sequenceListLeft = newMatrix[0].iloc[lastIndex:index+1, :]\n",
        "        matrices.append(sequenceList)\n",
        "        matricesLeft.append(sequenceListLeft)\n",
        "        lastIndex = index + 1\n",
        "    return matrices, matricesLeft\n",
        "\n",
        "  def rowIsAnewSequence(self, row):\n",
        "    try:\n",
        "      return math.isnan(row[\"1\"])\n",
        "    except:\n",
        "      return False\n",
        "\n",
        "  def linkAndProbabilities(self, matrices, count = 0):\n",
        "    links = []\n",
        "    probabilities = []\n",
        "    sequences = []\n",
        "    uniqueEvs = []\n",
        "    for i in range(0,len(matrices)):\n",
        "      thisMatrix = matrices[i]\n",
        "      lastEvent = \"Start\"\n",
        "      sequence = []\n",
        "      for index, row in thisMatrix.iterrows():\n",
        "        row = pd.to_numeric(row)\n",
        "        #print(row) # prints the rows\n",
        "        evName = row.idxmax(axis=1) # picks event with the highest probability\n",
        "        link = lastEvent + \"<-->\" + evName\n",
        "        sequence.append(evName)\n",
        "        if link not in links:\n",
        "          if lastEvent != evName:\n",
        "            if not (lastEvent.lower() == \"start\" and evName.lower() == \"end\"):\n",
        "              links.append(link)\n",
        "              prob = row[evName]\n",
        "              probabilities.append(prob)\n",
        "        lastEvent = evName\n",
        "      # The Last element is End and undesirable\n",
        "      sequence.pop()\n",
        "      sequences.append(sequence)\n",
        "    return links, probabilities, sequences    \n",
        "\n",
        "  def linkAndProbabilities_2(self, seqs, probs):\n",
        "    links = []\n",
        "    probabilities = []\n",
        "    sequences = []\n",
        "    for i in range(0,len(probs)):\n",
        "      lastEvent = \"Start\"\n",
        "      sequence = []\n",
        "      considprob = probs[i]\n",
        "      cols = considprob.columns.values\n",
        "      for index, row in considprob.iterrows():\n",
        "        evName = row.idxmax()\n",
        "        link = lastEvent + \"<-->\" + evName\n",
        "        sequence.append(evName)\n",
        "        prob = considprob[evName].max(axis=0)\n",
        "        if link not in links:\n",
        "          links.append(link)            \n",
        "          probabilities.append(prob)              \n",
        "        lastEvent = evName\n",
        "      sequence.pop() #\n",
        "      sequences.append(sequence)\n",
        "    return links, probabilities, sequences\n",
        "\n",
        "\n",
        "  def linkAndProbabilities_3(self, seqs, probs):\n",
        "    links = []\n",
        "    probabilities = []\n",
        "    sequences = []\n",
        "    uniqueEvs = []\n",
        "    orphanLog = []\n",
        "    pointedToLog = []\n",
        "    allowedActivities = probs[0].columns.values\n",
        "    for i in range(0,len(seqs)):\n",
        "      thisMatrix = probs[i]\n",
        "      lastEvent = \"Start\"\n",
        "      sequence = []\n",
        "      completeSequence = seqs[i].iloc[-1]\n",
        "      for j in range(1, len(completeSequence)):\n",
        "        if completeSequence[j] in allowedActivities:\n",
        "          evName = completeSequence[j]\n",
        "          sequence.append(evName)\n",
        "          link = lastEvent + \"<-->\" + evName\n",
        "          prob = probs[i][evName].max(axis=0)\n",
        "          if link not in links:\n",
        "            links.append(link)\n",
        "            probabilities.append(prob)\n",
        "          lastEvent = evName\n",
        "        else:\n",
        "          link = lastEvent + \"<-->END\"\n",
        "          prob = 100\n",
        "          if link not in links:\n",
        "            links.append(link)            \n",
        "            probabilities.append(prob)              \n",
        "          lastEvent = \"END\"\n",
        "          break\n",
        "      sequences.append(sequence)\n",
        "    return links, probabilities, sequences\n",
        "            \n",
        "  def drawGraph(self, transitions, probabilities, counter = 0):    \n",
        "    G = Digraph('process_model', filename='graph_'+str(counter)+'.gv')\n",
        "    G.attr(rankdir='LR', size='7,5')\n",
        "    G.attr('node', shape='doublecircle', style=\"filled\", fillcolor=\"grey\")\n",
        "    G.node('Start')\n",
        "    G.node('End')\n",
        "    G.attr('node', shape='box', style=\"bold\")\n",
        "    for i in range(0,len(transitions)):\n",
        "      G.attr('edge', style=\"bold\", penwidth='3.0', label=str(probabilities[i]))\n",
        "      fromto = transitions[i].split(\"<-->\")\n",
        "      G.edge(fromto[0], fromto[1])\n",
        "    G.view()\n",
        "    return G\n",
        "\n",
        "  def getEventSequence(self, data, X_label, Y_label):\n",
        "    currentX_label = ''\n",
        "    sequences = []\n",
        "    sequence = []\n",
        "    for index, row in data.iterrows():\n",
        "      if currentX_label == row[X_label]:\n",
        "        sequence.append(row[Y_label])\n",
        "      else:\n",
        "        if len(sequence) > 1:\n",
        "          sequences.append(sequence)\n",
        "        sequence = []\n",
        "        sequence.append(row[Y_label])\n",
        "      currentX_label = row[X_label]\n",
        "    sequences.append(sequence)\n",
        "    return sequences    \n",
        "  \n",
        "  # def getEventSequence(self, data, X_label, Y_label, caseNumber = None):\n",
        "  #   currentX_label = ''\n",
        "  #   sequences = []\n",
        "  #   sequence = []\n",
        "  #   for index, row in data.iterrows():\n",
        "  #     push = False\n",
        "  #     if caseNumber is not None:\n",
        "  #       if str(currentX_label) == str(caseNumber) or str(row[X_label]) == str(caseNumber):\n",
        "  #         push = True\n",
        "  #     else:\n",
        "  #       push = True;\n",
        "\n",
        "  #     if currentX_label == row[X_label]:\n",
        "  #       if push:\n",
        "  #         sequence.append(row[Y_label])\n",
        "  #     else:\n",
        "  #       if len(sequence) > 1:\n",
        "  #         sequences.append(sequence)        \n",
        "  #       if push :\n",
        "  #         sequence = []\n",
        "  #         sequence.append(row[Y_label])\n",
        "  #     currentX_label = row[X_label]\n",
        "  #   sequences.append(sequence)\n",
        "  #   return sequences"
      ],
      "execution_count": null,
      "outputs": []
    },
    {
      "cell_type": "code",
      "metadata": {
        "id": "ZvfuKs0fYiHw"
      },
      "source": [
        "class processDrift:\n",
        "  def __init__(self, driftedSequences):    \n",
        "    self.driftedSequences = driftedSequences\n",
        "    \n",
        "  def findBestCandidate(self, sequence):\n",
        "    self.originalSequence = sequence\n",
        "    scores = [0] * len(self.driftedSequences)\n",
        "    positionalDrifts = []\n",
        "    i = 0\n",
        "    for aSequence in self.driftedSequences:\n",
        "      x, y = self.positionalScore(sequence, aSequence)\n",
        "      scores[i] = x\n",
        "      drift = y\n",
        "      positionalDrifts.append(drift)\n",
        "      i = i + 1\n",
        "    bestMatch = scores.index(max(scores))\n",
        "    return self.driftedSequences[bestMatch], positionalDrifts[bestMatch]\n",
        "    \n",
        "  def positionalScore(self, sequence, driftedSequence):\n",
        "    score = 0\n",
        "    counter = 0\n",
        "    positionalDrift = []\n",
        "    for event in sequence:\n",
        "      try:\n",
        "        if driftedSequence[counter] == event:\n",
        "          score = score + 1\n",
        "        else:\n",
        "          positionalDrift.append(counter)\n",
        "      except:\n",
        "        break\n",
        "      counter = counter + 1\n",
        "    if score == 0:\n",
        "      return 0, positionalDrift\n",
        "    return (score/len(sequence)), positionalDrift\n",
        "\n",
        "  def drawGraph(self, transitions, drift, diag_counter = 0):\n",
        "    G = Digraph('process_model'+str(diag_counter)+'.gv')\n",
        "    G.attr(rankdir='LR', size='7,5')\n",
        "    G.attr('node', shape='doublecircle', style=\"filled\", fillcolor=\"grey\")\n",
        "    G.node('Start')\n",
        "    G.node('End')\n",
        "    G.attr('node', shape='box', style=\"bold\")\n",
        "    lastEv = \"Start\"\n",
        "    counter = 0\n",
        "    usedEvs = []\n",
        "    for ev in transitions:\n",
        "      if ev == \"END\":\n",
        "        counter = counter + 1\n",
        "        continue\n",
        "      if ev in usedEvs:\n",
        "        counter = counter + 1\n",
        "        continue\n",
        "      usedEvs.append(ev)\n",
        "      if counter in drift:\n",
        "        G.attr('node', shape='circle', style=\"dotted\")\n",
        "        G.attr('edge', style=\"bold\", penwidth='1.0')\n",
        "      else:\n",
        "        G.attr('node', shape='box', style=\"bold\")\n",
        "        G.attr('edge', style=\"bold\", penwidth='3.0')\n",
        "      G.edge(lastEv, ev)\n",
        "      lastEv = ev\n",
        "      counter = counter + 1\n",
        "    G.edge(lastEv, \"End\")\n",
        "    G.view()\n",
        "    return G"
      ],
      "execution_count": null,
      "outputs": []
    },
    {
      "cell_type": "code",
      "metadata": {
        "id": "9E9N6lMNng6s"
      },
      "source": [
        "originalDataset = pd.read_csv('referenceLogRP_0.csv', low_memory=False)\n",
        "#originalDataset = pd.read_csv('bpic_1.csv')\n",
        "originalDataset.drop(originalDataset.columns[0], axis = 1, inplace = True)"
      ],
      "execution_count": null,
      "outputs": []
    },
    {
      "cell_type": "code",
      "metadata": {
        "id": "9n7Jcj57VAW-"
      },
      "source": [
        "resultDataset = pd.read_csv('detectionLogRP_1_0.csv', low_memory=False)\n",
        "#resultDataset = pd.read_csv('bpic_2.csv')\n",
        "resultDataset.drop(resultDataset.columns[0], axis = 1, inplace = True)"
      ],
      "execution_count": null,
      "outputs": []
    },
    {
      "cell_type": "code",
      "metadata": {
        "id": "hOC4IW9WWjo5"
      },
      "source": [
        "_resultGraphing = resultGraphing()"
      ],
      "execution_count": null,
      "outputs": []
    },
    {
      "cell_type": "code",
      "source": [
        "print(originalDataset)"
      ],
      "metadata": {
        "id": "oBXJNiYir2Ia"
      },
      "execution_count": null,
      "outputs": []
    },
    {
      "cell_type": "code",
      "source": [
        "seq = _resultGraphing.getEventSequence(originalDataset, 'case', 'event')"
      ],
      "metadata": {
        "id": "La1_QDY6HgSI"
      },
      "execution_count": null,
      "outputs": []
    },
    {
      "cell_type": "code",
      "metadata": {
        "id": "aVNloakcndWZ"
      },
      "source": [
        "driftprobs, driftseqs = _resultGraphing.decomposeResult(resultDataset)\n",
        "link_2, probabilities_2, sequences_2 = _resultGraphing.linkAndProbabilities_3(driftseqs, driftprobs)\n",
        "link, probabilities, sequences = _resultGraphing.linkAndProbabilities(driftprobs)"
      ],
      "execution_count": null,
      "outputs": []
    },
    {
      "cell_type": "code",
      "source": [
        "original = seq[0]"
      ],
      "metadata": {
        "id": "5eyPg5RdJt8M"
      },
      "execution_count": null,
      "outputs": []
    },
    {
      "cell_type": "code",
      "metadata": {
        "id": "QvjI9YCfWiB1"
      },
      "source": [
        "#drift = sequences\n",
        "drift_2 = sequences_2"
      ],
      "execution_count": null,
      "outputs": []
    },
    {
      "cell_type": "code",
      "metadata": {
        "id": "-FqvgBVSXCRd",
        "colab": {
          "base_uri": "https://localhost:8080/",
          "height": 36
        },
        "outputId": "2a97cf77-0d54-4f24-a301-5264d0a27cd0"
      },
      "source": [
        "processDrift_ = processDrift(drift_2)\n",
        "j, k = processDrift_.findBestCandidate(original)\n",
        "processDrift_.drawGraph(original, [],)"
      ],
      "execution_count": null,
      "outputs": [
        {
          "output_type": "execute_result",
          "data": {
            "text/plain": [
              "<graphviz.dot.Digraph at 0x7f50e4eb8510>"
            ],
            "image/svg+xml": "<?xml version=\"1.0\" encoding=\"UTF-8\" standalone=\"no\"?>\n<!DOCTYPE svg PUBLIC \"-//W3C//DTD SVG 1.1//EN\"\n \"http://www.w3.org/Graphics/SVG/1.1/DTD/svg11.dtd\">\n<!-- Generated by graphviz version 2.40.1 (20161225.0304)\n -->\n<!-- Title: process_model0.gv Pages: 1 -->\n<svg width=\"504pt\" height=\"11pt\"\n viewBox=\"0.00 0.00 504.00 11.06\" xmlns=\"http://www.w3.org/2000/svg\" xmlns:xlink=\"http://www.w3.org/1999/xlink\">\n<g id=\"graph0\" class=\"graph\" transform=\"scale(.1539 .1539) rotate(0) translate(4 67.895)\">\n<title>process_model0.gv</title>\n<polygon fill=\"#ffffff\" stroke=\"transparent\" points=\"-4,4 -4,-67.895 3271.1903,-67.895 3271.1903,4 -4,4\"/>\n<!-- Start -->\n<g id=\"node1\" class=\"node\">\n<title>Start</title>\n<ellipse fill=\"#c0c0c0\" stroke=\"#000000\" cx=\"31.9475\" cy=\"-31.9475\" rx=\"27.9017\" ry=\"27.9017\"/>\n<ellipse fill=\"none\" stroke=\"#000000\" cx=\"31.9475\" cy=\"-31.9475\" rx=\"31.8951\" ry=\"31.8951\"/>\n<text text-anchor=\"middle\" x=\"31.9475\" y=\"-28.2475\" font-family=\"Times,serif\" font-size=\"14.00\" fill=\"#000000\">Start</text>\n</g>\n<!-- Loan_application_received -->\n<g id=\"node3\" class=\"node\">\n<title>Loan_application_received</title>\n<polygon fill=\"none\" stroke=\"#000000\" stroke-width=\"2\" points=\"271.895,-49.9475 99.895,-49.9475 99.895,-13.9475 271.895,-13.9475 271.895,-49.9475\"/>\n<text text-anchor=\"middle\" x=\"185.895\" y=\"-28.2475\" font-family=\"Times,serif\" font-size=\"14.00\" fill=\"#000000\">Loan_application_received</text>\n</g>\n<!-- Start&#45;&gt;Loan_application_received -->\n<g id=\"edge1\" class=\"edge\">\n<title>Start&#45;&gt;Loan_application_received</title>\n<path fill=\"none\" stroke=\"#000000\" stroke-width=\"3\" d=\"M64.22,-31.9475C71.9072,-31.9475 80.5046,-31.9475 89.4794,-31.9475\"/>\n<polygon fill=\"#000000\" stroke=\"#000000\" stroke-width=\"3\" points=\"89.7442,-35.4476 99.7442,-31.9475 89.7442,-28.4476 89.7442,-35.4476\"/>\n</g>\n<!-- End -->\n<g id=\"node2\" class=\"node\">\n<title>End</title>\n<ellipse fill=\"#c0c0c0\" stroke=\"#000000\" cx=\"3236.5427\" cy=\"-31.9475\" rx=\"26.7766\" ry=\"26.7766\"/>\n<ellipse fill=\"none\" stroke=\"#000000\" cx=\"3236.5427\" cy=\"-31.9475\" rx=\"30.796\" ry=\"30.796\"/>\n<text text-anchor=\"middle\" x=\"3236.5427\" y=\"-28.2475\" font-family=\"Times,serif\" font-size=\"14.00\" fill=\"#000000\">End</text>\n</g>\n<!-- Check_application_form_completeness -->\n<g id=\"node4\" class=\"node\">\n<title>Check_application_form_completeness</title>\n<polygon fill=\"none\" stroke=\"#000000\" stroke-width=\"2\" points=\"549.895,-49.9475 307.895,-49.9475 307.895,-13.9475 549.895,-13.9475 549.895,-49.9475\"/>\n<text text-anchor=\"middle\" x=\"428.895\" y=\"-28.2475\" font-family=\"Times,serif\" font-size=\"14.00\" fill=\"#000000\">Check_application_form_completeness</text>\n</g>\n<!-- Loan_application_received&#45;&gt;Check_application_form_completeness -->\n<g id=\"edge2\" class=\"edge\">\n<title>Loan_application_received&#45;&gt;Check_application_form_completeness</title>\n<path fill=\"none\" stroke=\"#000000\" stroke-width=\"3\" d=\"M271.9097,-31.9475C280.2509,-31.9475 288.8366,-31.9475 297.4898,-31.9475\"/>\n<polygon fill=\"#000000\" stroke=\"#000000\" stroke-width=\"3\" points=\"297.6683,-35.4476 307.6683,-31.9475 297.6682,-28.4476 297.6683,-35.4476\"/>\n</g>\n<!-- Return_application_back_to_applicant -->\n<g id=\"node5\" class=\"node\">\n<title>Return_application_back_to_applicant</title>\n<polygon fill=\"none\" stroke=\"#000000\" stroke-width=\"2\" points=\"824.895,-49.9475 585.895,-49.9475 585.895,-13.9475 824.895,-13.9475 824.895,-49.9475\"/>\n<text text-anchor=\"middle\" x=\"705.395\" y=\"-28.2475\" font-family=\"Times,serif\" font-size=\"14.00\" fill=\"#000000\">Return_application_back_to_applicant</text>\n</g>\n<!-- Check_application_form_completeness&#45;&gt;Return_application_back_to_applicant -->\n<g id=\"edge3\" class=\"edge\">\n<title>Check_application_form_completeness&#45;&gt;Return_application_back_to_applicant</title>\n<path fill=\"none\" stroke=\"#000000\" stroke-width=\"3\" d=\"M550.172,-31.9475C558.5278,-31.9475 566.9676,-31.9475 575.3668,-31.9475\"/>\n<polygon fill=\"#000000\" stroke=\"#000000\" stroke-width=\"3\" points=\"575.5835,-35.4476 585.5834,-31.9475 575.5834,-28.4476 575.5835,-35.4476\"/>\n</g>\n<!-- Receive_updated_application -->\n<g id=\"node6\" class=\"node\">\n<title>Receive_updated_application</title>\n<polygon fill=\"none\" stroke=\"#000000\" stroke-width=\"2\" points=\"1045.895,-49.9475 860.895,-49.9475 860.895,-13.9475 1045.895,-13.9475 1045.895,-49.9475\"/>\n<text text-anchor=\"middle\" x=\"953.395\" y=\"-28.2475\" font-family=\"Times,serif\" font-size=\"14.00\" fill=\"#000000\">Receive_updated_application</text>\n</g>\n<!-- Return_application_back_to_applicant&#45;&gt;Receive_updated_application -->\n<g id=\"edge4\" class=\"edge\">\n<title>Return_application_back_to_applicant&#45;&gt;Receive_updated_application</title>\n<path fill=\"none\" stroke=\"#000000\" stroke-width=\"3\" d=\"M825.0365,-31.9475C833.5782,-31.9475 842.1476,-31.9475 850.5822,-31.9475\"/>\n<polygon fill=\"#000000\" stroke=\"#000000\" stroke-width=\"3\" points=\"850.7928,-35.4476 860.7928,-31.9475 850.7927,-28.4476 850.7928,-35.4476\"/>\n</g>\n<!-- Appraise_property -->\n<g id=\"node7\" class=\"node\">\n<title>Appraise_property</title>\n<polygon fill=\"none\" stroke=\"#000000\" stroke-width=\"2\" points=\"1205.895,-49.9475 1081.895,-49.9475 1081.895,-13.9475 1205.895,-13.9475 1205.895,-49.9475\"/>\n<text text-anchor=\"middle\" x=\"1143.895\" y=\"-28.2475\" font-family=\"Times,serif\" font-size=\"14.00\" fill=\"#000000\">Appraise_property</text>\n</g>\n<!-- Receive_updated_application&#45;&gt;Appraise_property -->\n<g id=\"edge5\" class=\"edge\">\n<title>Receive_updated_application&#45;&gt;Appraise_property</title>\n<path fill=\"none\" stroke=\"#000000\" stroke-width=\"3\" d=\"M1046.1338,-31.9475C1054.7446,-31.9475 1063.3827,-31.9475 1071.7664,-31.9475\"/>\n<polygon fill=\"#000000\" stroke=\"#000000\" stroke-width=\"3\" points=\"1071.8477,-35.4476 1081.8477,-31.9475 1071.8476,-28.4476 1071.8477,-35.4476\"/>\n</g>\n<!-- Check_credit_history -->\n<g id=\"node8\" class=\"node\">\n<title>Check_credit_history</title>\n<polygon fill=\"none\" stroke=\"#000000\" stroke-width=\"2\" points=\"1381.895,-49.9475 1241.895,-49.9475 1241.895,-13.9475 1381.895,-13.9475 1381.895,-49.9475\"/>\n<text text-anchor=\"middle\" x=\"1311.895\" y=\"-28.2475\" font-family=\"Times,serif\" font-size=\"14.00\" fill=\"#000000\">Check_credit_history</text>\n</g>\n<!-- Appraise_property&#45;&gt;Check_credit_history -->\n<g id=\"edge6\" class=\"edge\">\n<title>Appraise_property&#45;&gt;Check_credit_history</title>\n<path fill=\"none\" stroke=\"#000000\" stroke-width=\"3\" d=\"M1205.9747,-31.9475C1214.3725,-31.9475 1223.0845,-31.9475 1231.7419,-31.9475\"/>\n<polygon fill=\"#000000\" stroke=\"#000000\" stroke-width=\"3\" points=\"1231.8578,-35.4476 1241.8578,-31.9475 1231.8578,-28.4476 1231.8578,-35.4476\"/>\n</g>\n<!-- Asses_loan_risk -->\n<g id=\"node9\" class=\"node\">\n<title>Asses_loan_risk</title>\n<polygon fill=\"none\" stroke=\"#000000\" stroke-width=\"2\" points=\"1527.895,-49.9475 1417.895,-49.9475 1417.895,-13.9475 1527.895,-13.9475 1527.895,-49.9475\"/>\n<text text-anchor=\"middle\" x=\"1472.895\" y=\"-28.2475\" font-family=\"Times,serif\" font-size=\"14.00\" fill=\"#000000\">Asses_loan_risk</text>\n</g>\n<!-- Check_credit_history&#45;&gt;Asses_loan_risk -->\n<g id=\"edge7\" class=\"edge\">\n<title>Check_credit_history&#45;&gt;Asses_loan_risk</title>\n<path fill=\"none\" stroke=\"#000000\" stroke-width=\"3\" d=\"M1382.0436,-31.9475C1390.4778,-31.9475 1399.0661,-31.9475 1407.4298,-31.9475\"/>\n<polygon fill=\"#000000\" stroke=\"#000000\" stroke-width=\"3\" points=\"1407.4951,-35.4476 1417.495,-31.9475 1407.495,-28.4476 1407.4951,-35.4476\"/>\n</g>\n<!-- Asses_elegibility -->\n<g id=\"node10\" class=\"node\">\n<title>Asses_elegibility</title>\n<polygon fill=\"none\" stroke=\"#000000\" stroke-width=\"2\" points=\"1676.895,-49.9475 1563.895,-49.9475 1563.895,-13.9475 1676.895,-13.9475 1676.895,-49.9475\"/>\n<text text-anchor=\"middle\" x=\"1620.395\" y=\"-28.2475\" font-family=\"Times,serif\" font-size=\"14.00\" fill=\"#000000\">Asses_elegibility</text>\n</g>\n<!-- Asses_loan_risk&#45;&gt;Asses_elegibility -->\n<g id=\"edge8\" class=\"edge\">\n<title>Asses_loan_risk&#45;&gt;Asses_elegibility</title>\n<path fill=\"none\" stroke=\"#000000\" stroke-width=\"3\" d=\"M1528.2382,-31.9475C1536.4907,-31.9475 1545.0717,-31.9475 1553.5308,-31.9475\"/>\n<polygon fill=\"#000000\" stroke=\"#000000\" stroke-width=\"3\" points=\"1553.7583,-35.4476 1563.7582,-31.9475 1553.7582,-28.4476 1553.7583,-35.4476\"/>\n</g>\n<!-- Prepare_acceptance_pack -->\n<g id=\"node11\" class=\"node\">\n<title>Prepare_acceptance_pack</title>\n<polygon fill=\"none\" stroke=\"#000000\" stroke-width=\"2\" points=\"1874.895,-49.9475 1712.895,-49.9475 1712.895,-13.9475 1874.895,-13.9475 1874.895,-49.9475\"/>\n<text text-anchor=\"middle\" x=\"1793.895\" y=\"-28.2475\" font-family=\"Times,serif\" font-size=\"14.00\" fill=\"#000000\">Prepare_acceptance_pack</text>\n</g>\n<!-- Asses_elegibility&#45;&gt;Prepare_acceptance_pack -->\n<g id=\"edge9\" class=\"edge\">\n<title>Asses_elegibility&#45;&gt;Prepare_acceptance_pack</title>\n<path fill=\"none\" stroke=\"#000000\" stroke-width=\"3\" d=\"M1677.2054,-31.9475C1685.3742,-31.9475 1693.9466,-31.9475 1702.5795,-31.9475\"/>\n<polygon fill=\"#000000\" stroke=\"#000000\" stroke-width=\"3\" points=\"1702.7211,-35.4476 1712.721,-31.9475 1702.721,-28.4476 1702.7211,-35.4476\"/>\n</g>\n<!-- Check_if_home_insurance_quote_is_requested -->\n<g id=\"node12\" class=\"node\">\n<title>Check_if_home_insurance_quote_is_requested</title>\n<polygon fill=\"none\" stroke=\"#000000\" stroke-width=\"2\" points=\"2198.895,-49.9475 1910.895,-49.9475 1910.895,-13.9475 2198.895,-13.9475 2198.895,-49.9475\"/>\n<text text-anchor=\"middle\" x=\"2054.895\" y=\"-28.2475\" font-family=\"Times,serif\" font-size=\"14.00\" fill=\"#000000\">Check_if_home_insurance_quote_is_requested</text>\n</g>\n<!-- Prepare_acceptance_pack&#45;&gt;Check_if_home_insurance_quote_is_requested -->\n<g id=\"edge10\" class=\"edge\">\n<title>Prepare_acceptance_pack&#45;&gt;Check_if_home_insurance_quote_is_requested</title>\n<path fill=\"none\" stroke=\"#000000\" stroke-width=\"3\" d=\"M1875.0464,-31.9475C1883.2206,-31.9475 1891.6978,-31.9475 1900.3202,-31.9475\"/>\n<polygon fill=\"#000000\" stroke=\"#000000\" stroke-width=\"3\" points=\"1900.4995,-35.4476 1910.4995,-31.9475 1900.4995,-28.4476 1900.4995,-35.4476\"/>\n</g>\n<!-- Send_home_insurance_quote -->\n<g id=\"node13\" class=\"node\">\n<title>Send_home_insurance_quote</title>\n<polygon fill=\"none\" stroke=\"#000000\" stroke-width=\"2\" points=\"2421.895,-49.9475 2234.895,-49.9475 2234.895,-13.9475 2421.895,-13.9475 2421.895,-49.9475\"/>\n<text text-anchor=\"middle\" x=\"2328.395\" y=\"-28.2475\" font-family=\"Times,serif\" font-size=\"14.00\" fill=\"#000000\">Send_home_insurance_quote</text>\n</g>\n<!-- Check_if_home_insurance_quote_is_requested&#45;&gt;Send_home_insurance_quote -->\n<g id=\"edge11\" class=\"edge\">\n<title>Check_if_home_insurance_quote_is_requested&#45;&gt;Send_home_insurance_quote</title>\n<path fill=\"none\" stroke=\"#000000\" stroke-width=\"3\" d=\"M2199.2536,-31.9475C2207.8351,-31.9475 2216.3766,-31.9475 2224.7422,-31.9475\"/>\n<polygon fill=\"#000000\" stroke=\"#000000\" stroke-width=\"3\" points=\"2224.8502,-35.4476 2234.8502,-31.9475 2224.8501,-28.4476 2224.8502,-35.4476\"/>\n</g>\n<!-- Verify_repayment_agreement -->\n<g id=\"node14\" class=\"node\">\n<title>Verify_repayment_agreement</title>\n<polygon fill=\"none\" stroke=\"#000000\" stroke-width=\"2\" points=\"2642.895,-49.9475 2457.895,-49.9475 2457.895,-13.9475 2642.895,-13.9475 2642.895,-49.9475\"/>\n<text text-anchor=\"middle\" x=\"2550.395\" y=\"-28.2475\" font-family=\"Times,serif\" font-size=\"14.00\" fill=\"#000000\">Verify_repayment_agreement</text>\n</g>\n<!-- Send_home_insurance_quote&#45;&gt;Verify_repayment_agreement -->\n<g id=\"edge12\" class=\"edge\">\n<title>Send_home_insurance_quote&#45;&gt;Verify_repayment_agreement</title>\n<path fill=\"none\" stroke=\"#000000\" stroke-width=\"3\" d=\"M2421.8996,-31.9475C2430.4167,-31.9475 2439.0747,-31.9475 2447.6663,-31.9475\"/>\n<polygon fill=\"#000000\" stroke=\"#000000\" stroke-width=\"3\" points=\"2447.7091,-35.4476 2457.7091,-31.9475 2447.709,-28.4476 2447.7091,-35.4476\"/>\n</g>\n<!-- Approve_application -->\n<g id=\"node15\" class=\"node\">\n<title>Approve_application</title>\n<polygon fill=\"none\" stroke=\"#000000\" stroke-width=\"2\" points=\"2816.895,-49.9475 2678.895,-49.9475 2678.895,-13.9475 2816.895,-13.9475 2816.895,-49.9475\"/>\n<text text-anchor=\"middle\" x=\"2747.895\" y=\"-28.2475\" font-family=\"Times,serif\" font-size=\"14.00\" fill=\"#000000\">Approve_application</text>\n</g>\n<!-- Verify_repayment_agreement&#45;&gt;Approve_application -->\n<g id=\"edge13\" class=\"edge\">\n<title>Verify_repayment_agreement&#45;&gt;Approve_application</title>\n<path fill=\"none\" stroke=\"#000000\" stroke-width=\"3\" d=\"M2643.073,-31.9475C2651.6232,-31.9475 2660.2343,-31.9475 2668.6487,-31.9475\"/>\n<polygon fill=\"#000000\" stroke=\"#000000\" stroke-width=\"3\" points=\"2668.7975,-35.4476 2678.7975,-31.9475 2668.7974,-28.4476 2668.7975,-35.4476\"/>\n</g>\n<!-- Loan_application_approved -->\n<g id=\"node16\" class=\"node\">\n<title>Loan_application_approved</title>\n<polygon fill=\"none\" stroke=\"#000000\" stroke-width=\"2\" points=\"3031.895,-49.9475 2852.895,-49.9475 2852.895,-13.9475 3031.895,-13.9475 3031.895,-49.9475\"/>\n<text text-anchor=\"middle\" x=\"2942.395\" y=\"-28.2475\" font-family=\"Times,serif\" font-size=\"14.00\" fill=\"#000000\">Loan_application_approved</text>\n</g>\n<!-- Approve_application&#45;&gt;Loan_application_approved -->\n<g id=\"edge14\" class=\"edge\">\n<title>Approve_application&#45;&gt;Loan_application_approved</title>\n<path fill=\"none\" stroke=\"#000000\" stroke-width=\"3\" d=\"M2817.0161,-31.9475C2825.335,-31.9475 2833.9543,-31.9475 2842.6004,-31.9475\"/>\n<polygon fill=\"#000000\" stroke=\"#000000\" stroke-width=\"3\" points=\"2842.7462,-35.4476 2852.7462,-31.9475 2842.7462,-28.4476 2842.7462,-35.4476\"/>\n</g>\n<!-- Finish_process -->\n<g id=\"node17\" class=\"node\">\n<title>Finish_process</title>\n<polygon fill=\"none\" stroke=\"#000000\" stroke-width=\"2\" points=\"3169.895,-49.9475 3067.895,-49.9475 3067.895,-13.9475 3169.895,-13.9475 3169.895,-49.9475\"/>\n<text text-anchor=\"middle\" x=\"3118.895\" y=\"-28.2475\" font-family=\"Times,serif\" font-size=\"14.00\" fill=\"#000000\">Finish_process</text>\n</g>\n<!-- Loan_application_approved&#45;&gt;Finish_process -->\n<g id=\"edge15\" class=\"edge\">\n<title>Loan_application_approved&#45;&gt;Finish_process</title>\n<path fill=\"none\" stroke=\"#000000\" stroke-width=\"3\" d=\"M3031.9377,-31.9475C3040.5776,-31.9475 3049.2009,-31.9475 3057.4764,-31.9475\"/>\n<polygon fill=\"#000000\" stroke=\"#000000\" stroke-width=\"3\" points=\"3057.7477,-35.4476 3067.7476,-31.9475 3057.7476,-28.4476 3057.7477,-35.4476\"/>\n</g>\n<!-- Finish_process&#45;&gt;End -->\n<g id=\"edge16\" class=\"edge\">\n<title>Finish_process&#45;&gt;End</title>\n<path fill=\"none\" stroke=\"#000000\" stroke-width=\"3\" d=\"M3170.1548,-31.9475C3178.6883,-31.9475 3187.4377,-31.9475 3195.6686,-31.9475\"/>\n<polygon fill=\"#000000\" stroke=\"#000000\" stroke-width=\"3\" points=\"3195.7619,-35.4476 3205.7618,-31.9475 3195.7618,-28.4476 3195.7619,-35.4476\"/>\n</g>\n</g>\n</svg>\n"
          },
          "metadata": {},
          "execution_count": 20
        }
      ]
    },
    {
      "cell_type": "code",
      "metadata": {
        "id": "wUhJ8PrBjvSv",
        "colab": {
          "base_uri": "https://localhost:8080/",
          "height": 55
        },
        "outputId": "4be4551f-3d52-4cd8-9246-758a3bedb423"
      },
      "source": [
        "processDrift_.drawGraph(j, k, 1)"
      ],
      "execution_count": null,
      "outputs": [
        {
          "output_type": "execute_result",
          "data": {
            "text/plain": [
              "<graphviz.dot.Digraph at 0x7f50e4eb8410>"
            ],
            "image/svg+xml": "<?xml version=\"1.0\" encoding=\"UTF-8\" standalone=\"no\"?>\n<!DOCTYPE svg PUBLIC \"-//W3C//DTD SVG 1.1//EN\"\n \"http://www.w3.org/Graphics/SVG/1.1/DTD/svg11.dtd\">\n<!-- Generated by graphviz version 2.40.1 (20161225.0304)\n -->\n<!-- Title: process_model1.gv Pages: 1 -->\n<svg width=\"504pt\" height=\"25pt\"\n viewBox=\"0.00 0.00 504.00 25.27\" xmlns=\"http://www.w3.org/2000/svg\" xmlns:xlink=\"http://www.w3.org/1999/xlink\">\n<g id=\"graph0\" class=\"graph\" transform=\"scale(.1553 .1553) rotate(0) translate(4 158.6863)\">\n<title>process_model1.gv</title>\n<polygon fill=\"#ffffff\" stroke=\"transparent\" points=\"-4,4 -4,-158.6863 3240.8766,-158.6863 3240.8766,4 -4,4\"/>\n<!-- Start -->\n<g id=\"node1\" class=\"node\">\n<title>Start</title>\n<ellipse fill=\"#c0c0c0\" stroke=\"#000000\" cx=\"31.9475\" cy=\"-77.3431\" rx=\"27.9017\" ry=\"27.9017\"/>\n<ellipse fill=\"none\" stroke=\"#000000\" cx=\"31.9475\" cy=\"-77.3431\" rx=\"31.8951\" ry=\"31.8951\"/>\n<text text-anchor=\"middle\" x=\"31.9475\" y=\"-73.6431\" font-family=\"Times,serif\" font-size=\"14.00\" fill=\"#000000\">Start</text>\n</g>\n<!-- Loan_application_received -->\n<g id=\"node3\" class=\"node\">\n<title>Loan_application_received</title>\n<polygon fill=\"none\" stroke=\"#000000\" stroke-width=\"2\" points=\"271.895,-95.3431 99.895,-95.3431 99.895,-59.3431 271.895,-59.3431 271.895,-95.3431\"/>\n<text text-anchor=\"middle\" x=\"185.895\" y=\"-73.6431\" font-family=\"Times,serif\" font-size=\"14.00\" fill=\"#000000\">Loan_application_received</text>\n</g>\n<!-- Start&#45;&gt;Loan_application_received -->\n<g id=\"edge1\" class=\"edge\">\n<title>Start&#45;&gt;Loan_application_received</title>\n<path fill=\"none\" stroke=\"#000000\" stroke-width=\"3\" d=\"M64.22,-77.3431C71.9072,-77.3431 80.5046,-77.3431 89.4794,-77.3431\"/>\n<polygon fill=\"#000000\" stroke=\"#000000\" stroke-width=\"3\" points=\"89.7442,-80.8432 99.7442,-77.3431 89.7442,-73.8432 89.7442,-80.8432\"/>\n</g>\n<!-- End -->\n<g id=\"node2\" class=\"node\">\n<title>End</title>\n<ellipse fill=\"#c0c0c0\" stroke=\"#000000\" cx=\"3206.229\" cy=\"-77.3431\" rx=\"26.7766\" ry=\"26.7766\"/>\n<ellipse fill=\"none\" stroke=\"#000000\" cx=\"3206.229\" cy=\"-77.3431\" rx=\"30.796\" ry=\"30.796\"/>\n<text text-anchor=\"middle\" x=\"3206.229\" y=\"-73.6431\" font-family=\"Times,serif\" font-size=\"14.00\" fill=\"#000000\">End</text>\n</g>\n<!-- Check_application_form_completeness -->\n<g id=\"node4\" class=\"node\">\n<title>Check_application_form_completeness</title>\n<polygon fill=\"none\" stroke=\"#000000\" stroke-width=\"2\" points=\"549.895,-95.3431 307.895,-95.3431 307.895,-59.3431 549.895,-59.3431 549.895,-95.3431\"/>\n<text text-anchor=\"middle\" x=\"428.895\" y=\"-73.6431\" font-family=\"Times,serif\" font-size=\"14.00\" fill=\"#000000\">Check_application_form_completeness</text>\n</g>\n<!-- Loan_application_received&#45;&gt;Check_application_form_completeness -->\n<g id=\"edge2\" class=\"edge\">\n<title>Loan_application_received&#45;&gt;Check_application_form_completeness</title>\n<path fill=\"none\" stroke=\"#000000\" stroke-width=\"3\" d=\"M271.9097,-77.3431C280.2509,-77.3431 288.8366,-77.3431 297.4898,-77.3431\"/>\n<polygon fill=\"#000000\" stroke=\"#000000\" stroke-width=\"3\" points=\"297.6683,-80.8432 307.6683,-77.3431 297.6682,-73.8432 297.6683,-80.8432\"/>\n</g>\n<!-- Return_application_back_to_applicant -->\n<g id=\"node5\" class=\"node\">\n<title>Return_application_back_to_applicant</title>\n<polygon fill=\"none\" stroke=\"#000000\" stroke-width=\"2\" points=\"824.895,-95.3431 585.895,-95.3431 585.895,-59.3431 824.895,-59.3431 824.895,-95.3431\"/>\n<text text-anchor=\"middle\" x=\"705.395\" y=\"-73.6431\" font-family=\"Times,serif\" font-size=\"14.00\" fill=\"#000000\">Return_application_back_to_applicant</text>\n</g>\n<!-- Check_application_form_completeness&#45;&gt;Return_application_back_to_applicant -->\n<g id=\"edge3\" class=\"edge\">\n<title>Check_application_form_completeness&#45;&gt;Return_application_back_to_applicant</title>\n<path fill=\"none\" stroke=\"#000000\" stroke-width=\"3\" d=\"M550.172,-77.3431C558.5278,-77.3431 566.9676,-77.3431 575.3668,-77.3431\"/>\n<polygon fill=\"#000000\" stroke=\"#000000\" stroke-width=\"3\" points=\"575.5835,-80.8432 585.5834,-77.3431 575.5834,-73.8432 575.5835,-80.8432\"/>\n</g>\n<!-- Receive_updated_application -->\n<g id=\"node6\" class=\"node\">\n<title>Receive_updated_application</title>\n<polygon fill=\"none\" stroke=\"#000000\" stroke-width=\"2\" points=\"1045.895,-95.3431 860.895,-95.3431 860.895,-59.3431 1045.895,-59.3431 1045.895,-95.3431\"/>\n<text text-anchor=\"middle\" x=\"953.395\" y=\"-73.6431\" font-family=\"Times,serif\" font-size=\"14.00\" fill=\"#000000\">Receive_updated_application</text>\n</g>\n<!-- Return_application_back_to_applicant&#45;&gt;Receive_updated_application -->\n<g id=\"edge4\" class=\"edge\">\n<title>Return_application_back_to_applicant&#45;&gt;Receive_updated_application</title>\n<path fill=\"none\" stroke=\"#000000\" stroke-width=\"3\" d=\"M825.0365,-77.3431C833.5782,-77.3431 842.1476,-77.3431 850.5822,-77.3431\"/>\n<polygon fill=\"#000000\" stroke=\"#000000\" stroke-width=\"3\" points=\"850.7928,-80.8432 860.7928,-77.3431 850.7927,-73.8432 850.7928,-80.8432\"/>\n</g>\n<!-- Appraise_property -->\n<g id=\"node7\" class=\"node\">\n<title>Appraise_property</title>\n<polygon fill=\"none\" stroke=\"#000000\" stroke-width=\"2\" points=\"1205.895,-95.3431 1081.895,-95.3431 1081.895,-59.3431 1205.895,-59.3431 1205.895,-95.3431\"/>\n<text text-anchor=\"middle\" x=\"1143.895\" y=\"-73.6431\" font-family=\"Times,serif\" font-size=\"14.00\" fill=\"#000000\">Appraise_property</text>\n</g>\n<!-- Receive_updated_application&#45;&gt;Appraise_property -->\n<g id=\"edge5\" class=\"edge\">\n<title>Receive_updated_application&#45;&gt;Appraise_property</title>\n<path fill=\"none\" stroke=\"#000000\" stroke-width=\"3\" d=\"M1046.1338,-77.3431C1054.7446,-77.3431 1063.3827,-77.3431 1071.7664,-77.3431\"/>\n<polygon fill=\"#000000\" stroke=\"#000000\" stroke-width=\"3\" points=\"1071.8477,-80.8432 1081.8477,-77.3431 1071.8476,-73.8432 1071.8477,-80.8432\"/>\n</g>\n<!-- Check_credit_history -->\n<g id=\"node8\" class=\"node\">\n<title>Check_credit_history</title>\n<polygon fill=\"none\" stroke=\"#000000\" stroke-width=\"2\" points=\"1381.895,-95.3431 1241.895,-95.3431 1241.895,-59.3431 1381.895,-59.3431 1381.895,-95.3431\"/>\n<text text-anchor=\"middle\" x=\"1311.895\" y=\"-73.6431\" font-family=\"Times,serif\" font-size=\"14.00\" fill=\"#000000\">Check_credit_history</text>\n</g>\n<!-- Appraise_property&#45;&gt;Check_credit_history -->\n<g id=\"edge6\" class=\"edge\">\n<title>Appraise_property&#45;&gt;Check_credit_history</title>\n<path fill=\"none\" stroke=\"#000000\" stroke-width=\"3\" d=\"M1205.9747,-77.3431C1214.3725,-77.3431 1223.0845,-77.3431 1231.7419,-77.3431\"/>\n<polygon fill=\"#000000\" stroke=\"#000000\" stroke-width=\"3\" points=\"1231.8578,-80.8432 1241.8578,-77.3431 1231.8578,-73.8432 1231.8578,-80.8432\"/>\n</g>\n<!-- Asses_loan_risk -->\n<g id=\"node9\" class=\"node\">\n<title>Asses_loan_risk</title>\n<polygon fill=\"none\" stroke=\"#000000\" stroke-width=\"2\" points=\"1527.895,-95.3431 1417.895,-95.3431 1417.895,-59.3431 1527.895,-59.3431 1527.895,-95.3431\"/>\n<text text-anchor=\"middle\" x=\"1472.895\" y=\"-73.6431\" font-family=\"Times,serif\" font-size=\"14.00\" fill=\"#000000\">Asses_loan_risk</text>\n</g>\n<!-- Check_credit_history&#45;&gt;Asses_loan_risk -->\n<g id=\"edge7\" class=\"edge\">\n<title>Check_credit_history&#45;&gt;Asses_loan_risk</title>\n<path fill=\"none\" stroke=\"#000000\" stroke-width=\"3\" d=\"M1382.0436,-77.3431C1390.4778,-77.3431 1399.0661,-77.3431 1407.4298,-77.3431\"/>\n<polygon fill=\"#000000\" stroke=\"#000000\" stroke-width=\"3\" points=\"1407.4951,-80.8432 1417.495,-77.3431 1407.495,-73.8432 1407.4951,-80.8432\"/>\n</g>\n<!-- Asses_elegibility -->\n<g id=\"node10\" class=\"node\">\n<title>Asses_elegibility</title>\n<polygon fill=\"none\" stroke=\"#000000\" stroke-width=\"2\" points=\"1676.895,-95.3431 1563.895,-95.3431 1563.895,-59.3431 1676.895,-59.3431 1676.895,-95.3431\"/>\n<text text-anchor=\"middle\" x=\"1620.395\" y=\"-73.6431\" font-family=\"Times,serif\" font-size=\"14.00\" fill=\"#000000\">Asses_elegibility</text>\n</g>\n<!-- Asses_loan_risk&#45;&gt;Asses_elegibility -->\n<g id=\"edge8\" class=\"edge\">\n<title>Asses_loan_risk&#45;&gt;Asses_elegibility</title>\n<path fill=\"none\" stroke=\"#000000\" stroke-width=\"3\" d=\"M1528.2382,-77.3431C1536.4907,-77.3431 1545.0717,-77.3431 1553.5308,-77.3431\"/>\n<polygon fill=\"#000000\" stroke=\"#000000\" stroke-width=\"3\" points=\"1553.7583,-80.8432 1563.7582,-77.3431 1553.7582,-73.8432 1553.7583,-80.8432\"/>\n</g>\n<!-- Prepare_acceptance_pack -->\n<g id=\"node11\" class=\"node\">\n<title>Prepare_acceptance_pack</title>\n<polygon fill=\"none\" stroke=\"#000000\" stroke-width=\"2\" points=\"1874.895,-95.3431 1712.895,-95.3431 1712.895,-59.3431 1874.895,-59.3431 1874.895,-95.3431\"/>\n<text text-anchor=\"middle\" x=\"1793.895\" y=\"-73.6431\" font-family=\"Times,serif\" font-size=\"14.00\" fill=\"#000000\">Prepare_acceptance_pack</text>\n</g>\n<!-- Asses_elegibility&#45;&gt;Prepare_acceptance_pack -->\n<g id=\"edge9\" class=\"edge\">\n<title>Asses_elegibility&#45;&gt;Prepare_acceptance_pack</title>\n<path fill=\"none\" stroke=\"#000000\" stroke-width=\"3\" d=\"M1677.2054,-77.3431C1685.3742,-77.3431 1693.9466,-77.3431 1702.5795,-77.3431\"/>\n<polygon fill=\"#000000\" stroke=\"#000000\" stroke-width=\"3\" points=\"1702.7211,-80.8432 1712.721,-77.3431 1702.721,-73.8432 1702.7211,-80.8432\"/>\n</g>\n<!-- Check_if_home_insurance_quote_is_requested -->\n<g id=\"node12\" class=\"node\">\n<title>Check_if_home_insurance_quote_is_requested</title>\n<polygon fill=\"none\" stroke=\"#000000\" stroke-width=\"2\" points=\"2198.895,-95.3431 1910.895,-95.3431 1910.895,-59.3431 2198.895,-59.3431 2198.895,-95.3431\"/>\n<text text-anchor=\"middle\" x=\"2054.895\" y=\"-73.6431\" font-family=\"Times,serif\" font-size=\"14.00\" fill=\"#000000\">Check_if_home_insurance_quote_is_requested</text>\n</g>\n<!-- Prepare_acceptance_pack&#45;&gt;Check_if_home_insurance_quote_is_requested -->\n<g id=\"edge10\" class=\"edge\">\n<title>Prepare_acceptance_pack&#45;&gt;Check_if_home_insurance_quote_is_requested</title>\n<path fill=\"none\" stroke=\"#000000\" stroke-width=\"3\" d=\"M1875.0464,-77.3431C1883.2206,-77.3431 1891.6978,-77.3431 1900.3202,-77.3431\"/>\n<polygon fill=\"#000000\" stroke=\"#000000\" stroke-width=\"3\" points=\"1900.4995,-80.8432 1910.4995,-77.3431 1900.4995,-73.8432 1900.4995,-80.8432\"/>\n</g>\n<!-- Send_home_insurance_quote -->\n<g id=\"node13\" class=\"node\">\n<title>Send_home_insurance_quote</title>\n<polygon fill=\"none\" stroke=\"#000000\" stroke-width=\"2\" points=\"2421.895,-95.3431 2234.895,-95.3431 2234.895,-59.3431 2421.895,-59.3431 2421.895,-95.3431\"/>\n<text text-anchor=\"middle\" x=\"2328.395\" y=\"-73.6431\" font-family=\"Times,serif\" font-size=\"14.00\" fill=\"#000000\">Send_home_insurance_quote</text>\n</g>\n<!-- Check_if_home_insurance_quote_is_requested&#45;&gt;Send_home_insurance_quote -->\n<g id=\"edge11\" class=\"edge\">\n<title>Check_if_home_insurance_quote_is_requested&#45;&gt;Send_home_insurance_quote</title>\n<path fill=\"none\" stroke=\"#000000\" stroke-width=\"3\" d=\"M2199.2536,-77.3431C2207.8351,-77.3431 2216.3766,-77.3431 2224.7422,-77.3431\"/>\n<polygon fill=\"#000000\" stroke=\"#000000\" stroke-width=\"3\" points=\"2224.8502,-80.8432 2234.8502,-77.3431 2224.8501,-73.8432 2224.8502,-80.8432\"/>\n</g>\n<!-- Replaced_activity -->\n<g id=\"node14\" class=\"node\">\n<title>Replaced_activity</title>\n<ellipse fill=\"none\" stroke=\"#000000\" stroke-dasharray=\"1,5\" cx=\"2535.2382\" cy=\"-77.3431\" rx=\"77.1866\" ry=\"77.1866\"/>\n<text text-anchor=\"middle\" x=\"2535.2382\" y=\"-73.6431\" font-family=\"Times,serif\" font-size=\"14.00\" fill=\"#000000\">Replaced_activity</text>\n</g>\n<!-- Send_home_insurance_quote&#45;&gt;Replaced_activity -->\n<g id=\"edge12\" class=\"edge\">\n<title>Send_home_insurance_quote&#45;&gt;Replaced_activity</title>\n<path fill=\"none\" stroke=\"#000000\" d=\"M2422.1335,-77.3431C2430.5686,-77.3431 2439.0905,-77.3431 2447.4719,-77.3431\"/>\n<polygon fill=\"#000000\" stroke=\"#000000\" points=\"2447.6106,-80.8432 2457.6105,-77.3431 2447.6105,-73.8432 2447.6106,-80.8432\"/>\n</g>\n<!-- Approve_application -->\n<g id=\"node15\" class=\"node\">\n<title>Approve_application</title>\n<polygon fill=\"none\" stroke=\"#000000\" stroke-width=\"2\" points=\"2786.5813,-95.3431 2648.5813,-95.3431 2648.5813,-59.3431 2786.5813,-59.3431 2786.5813,-95.3431\"/>\n<text text-anchor=\"middle\" x=\"2717.5813\" y=\"-73.6431\" font-family=\"Times,serif\" font-size=\"14.00\" fill=\"#000000\">Approve_application</text>\n</g>\n<!-- Replaced_activity&#45;&gt;Approve_application -->\n<g id=\"edge13\" class=\"edge\">\n<title>Replaced_activity&#45;&gt;Approve_application</title>\n<path fill=\"none\" stroke=\"#000000\" stroke-width=\"3\" d=\"M2612.8325,-77.3431C2621.2398,-77.3431 2629.8047,-77.3431 2638.2325,-77.3431\"/>\n<polygon fill=\"#000000\" stroke=\"#000000\" stroke-width=\"3\" points=\"2638.4248,-80.8432 2648.4248,-77.3431 2638.4248,-73.8432 2638.4248,-80.8432\"/>\n</g>\n<!-- Loan_application_approved -->\n<g id=\"node16\" class=\"node\">\n<title>Loan_application_approved</title>\n<polygon fill=\"none\" stroke=\"#000000\" stroke-width=\"2\" points=\"3001.5813,-95.3431 2822.5813,-95.3431 2822.5813,-59.3431 3001.5813,-59.3431 3001.5813,-95.3431\"/>\n<text text-anchor=\"middle\" x=\"2912.0813\" y=\"-73.6431\" font-family=\"Times,serif\" font-size=\"14.00\" fill=\"#000000\">Loan_application_approved</text>\n</g>\n<!-- Approve_application&#45;&gt;Loan_application_approved -->\n<g id=\"edge14\" class=\"edge\">\n<title>Approve_application&#45;&gt;Loan_application_approved</title>\n<path fill=\"none\" stroke=\"#000000\" stroke-width=\"3\" d=\"M2786.7024,-77.3431C2795.0212,-77.3431 2803.6406,-77.3431 2812.2867,-77.3431\"/>\n<polygon fill=\"#000000\" stroke=\"#000000\" stroke-width=\"3\" points=\"2812.4325,-80.8432 2822.4325,-77.3431 2812.4324,-73.8432 2812.4325,-80.8432\"/>\n</g>\n<!-- Finish_process -->\n<g id=\"node17\" class=\"node\">\n<title>Finish_process</title>\n<polygon fill=\"none\" stroke=\"#000000\" stroke-width=\"2\" points=\"3139.5813,-95.3431 3037.5813,-95.3431 3037.5813,-59.3431 3139.5813,-59.3431 3139.5813,-95.3431\"/>\n<text text-anchor=\"middle\" x=\"3088.5813\" y=\"-73.6431\" font-family=\"Times,serif\" font-size=\"14.00\" fill=\"#000000\">Finish_process</text>\n</g>\n<!-- Loan_application_approved&#45;&gt;Finish_process -->\n<g id=\"edge15\" class=\"edge\">\n<title>Loan_application_approved&#45;&gt;Finish_process</title>\n<path fill=\"none\" stroke=\"#000000\" stroke-width=\"3\" d=\"M3001.624,-77.3431C3010.2639,-77.3431 3018.8872,-77.3431 3027.1626,-77.3431\"/>\n<polygon fill=\"#000000\" stroke=\"#000000\" stroke-width=\"3\" points=\"3027.434,-80.8432 3037.4339,-77.3431 3027.4339,-73.8432 3027.434,-80.8432\"/>\n</g>\n<!-- Finish_process&#45;&gt;End -->\n<g id=\"edge16\" class=\"edge\">\n<title>Finish_process&#45;&gt;End</title>\n<path fill=\"none\" stroke=\"#000000\" stroke-width=\"3\" d=\"M3139.841,-77.3431C3148.3745,-77.3431 3157.124,-77.3431 3165.3549,-77.3431\"/>\n<polygon fill=\"#000000\" stroke=\"#000000\" stroke-width=\"3\" points=\"3165.4481,-80.8432 3175.4481,-77.3431 3165.4481,-73.8432 3165.4481,-80.8432\"/>\n</g>\n</g>\n</svg>\n"
          },
          "metadata": {},
          "execution_count": 21
        }
      ]
    },
    {
      "cell_type": "code",
      "source": [
        "processDrift_2 = processDrift(drift_2)\n",
        "j, k = processDrift_2.findBestCandidate(original)\n",
        "processDrift_2.drawGraph(original, [],)"
      ],
      "metadata": {
        "id": "3YIc4TsZJ9sh"
      },
      "execution_count": null,
      "outputs": []
    },
    {
      "cell_type": "code",
      "source": [
        "processDrift_2.drawGraph(j, k, 1)"
      ],
      "metadata": {
        "id": "DkSaJSoNKMgr"
      },
      "execution_count": null,
      "outputs": []
    }
  ]
}